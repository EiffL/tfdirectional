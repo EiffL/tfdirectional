{
 "cells": [
  {
   "cell_type": "code",
   "execution_count": 11,
   "metadata": {},
   "outputs": [
    {
     "name": "stdout",
     "output_type": "stream",
     "text": [
      "The autoreload extension is already loaded. To reload it, use:\n",
      "  %reload_ext autoreload\n",
      "Populating the interactive namespace from numpy and matplotlib\n"
     ]
    }
   ],
   "source": [
    "%load_ext autoreload\n",
    "%autoreload 2\n",
    "%pylab inline"
   ]
  },
  {
   "cell_type": "code",
   "execution_count": 12,
   "metadata": {},
   "outputs": [],
   "source": [
    "import tfdirectional as tfdir\n",
    "import tensorflow as tf"
   ]
  },
  {
   "cell_type": "code",
   "execution_count": 15,
   "metadata": {},
   "outputs": [],
   "source": [
    "rotation = tf.placeholder(shape=(32,3,3), dtype=tf.float32)\n",
    "concentration = tf.placeholder(shape=(32,3), dtype=tf.float32)\n",
    "\n",
    "vec = tf.placeholder(shape=(32,3), dtype=tf.float32)\n",
    "\n",
    "distr = tfdir.distributions.Bingham(rotation, concentration)"
   ]
  },
  {
   "cell_type": "code",
   "execution_count": 16,
   "metadata": {},
   "outputs": [],
   "source": [
    "l = distr.log_prob(vec)"
   ]
  },
  {
   "cell_type": "code",
   "execution_count": 17,
   "metadata": {},
   "outputs": [],
   "source": [
    "sess = tf.Session()"
   ]
  },
  {
   "cell_type": "code",
   "execution_count": 25,
   "metadata": {},
   "outputs": [
    {
     "data": {
      "text/plain": [
       "array([  8.5618725 , -26.120878  ,   0.6794003 ,  -3.051964  ,\n",
       "        -0.8037257 , -10.457333  ,  -8.269031  ,  -1.304846  ,\n",
       "        -0.8194772 ,   9.508719  ,   4.3450913 ,  -0.1206964 ,\n",
       "       -12.6161585 ,  -5.7165213 ,   0.19898307,   7.848876  ,\n",
       "        -2.0945745 , -22.993834  ,  30.68884   , -28.438684  ,\n",
       "        -7.047803  ,   1.0278432 ,  34.038536  ,  -3.0537033 ,\n",
       "       -10.687134  ,   2.5273366 , -22.480417  ,  -1.2847064 ,\n",
       "         9.965685  ,  -3.176401  ,   8.179589  , -13.678457  ],\n",
       "      dtype=float32)"
      ]
     },
     "execution_count": 25,
     "metadata": {},
     "output_type": "execute_result"
    }
   ],
   "source": [
    "sess.run(l, feed_dict={rotation: randn(32,3,3),\n",
    "                       concentration: randn(32,3),\n",
    "                        vec: randn(32,3)})"
   ]
  },
  {
   "cell_type": "code",
   "execution_count": 40,
   "metadata": {},
   "outputs": [],
   "source": [
    "# sample polar coordimnates\n",
    "theta = np.linspace(0, np.pi, 128)\n",
    "phi = np.linspace(0, 2*np.pi, 12)\n",
    "phi, theta = np.meshgrid(phi, theta)\n",
    "\n",
    "# cartesian coordinates of the unit sphere\n",
    "r = 1.0\n",
    "x = r * np.sin(theta) * np.cos(phi)\n",
    "y = r * np.sin(theta) * np.sin(phi)\n",
    "z = r * np.cos(theta)\n",
    "\n",
    "v = np.stack([x,y,z],axis=-1)"
   ]
  },
  {
   "cell_type": "code",
   "execution_count": 55,
   "metadata": {},
   "outputs": [],
   "source": [
    "vec = tf.placeholder(shape=(625,3), dtype=tf.float32)\n",
    "distr = tfdir.distributions.Bingham(tf.eye(3, batch_shape=(625,)),\n",
    "                                    2*tf.eye(3, batch_shape=(625,))[...,0])\n",
    "          \n",
    "l = distr.log_prob(vec)\n",
    "\n",
    "pdf = exp(sess.run(l, feed_dict={vec: v.reshape((-1,3))}))"
   ]
  },
  {
   "cell_type": "code",
   "execution_count": 61,
   "metadata": {},
   "outputs": [
    {
     "data": {
      "image/png": "[encoded data removed]",
      "text/plain": [
       "<Figure size 1080x324 with 1 Axes>"
      ]
     },
     "metadata": {
      "needs_background": "light"
     },
     "output_type": "display_data"
    }
   ],
   "source": [
    "# set up a figure\n",
    "fig = plt.figure(figsize=(15.0,4.5))\n",
    "\n",
    "# calculate the pdf for given k<0\n",
    "fcolors = pdf.reshape((25,25))\n",
    "ax = fig.add_subplot(1, 3, 1, projection='3d')\n",
    "ax.set_title(r'$k<0$', fontsize=15)\n",
    "ax.plot_surface(x, y, z,  rstride=1, cstride=1,\n",
    "                facecolors=cm.gist_stern(fcolors))\n",
    "ax.set_axis_off()"
   ]
  },
  {
   "cell_type": "code",
   "execution_count": null,
   "metadata": {},
   "outputs": [],
   "source": []
  }
 ],
 "metadata": {
  "kernelspec": {
   "display_name": "Python 3 - GPU",
   "language": "python",
   "name": "gpu-python3"
  },
  "language_info": {
   "codemirror_mode": {
    "name": "ipython",
    "version": 3
   },
   "file_extension": ".py",
   "mimetype": "text/x-python",
   "name": "python",
   "nbconvert_exporter": "python",
   "pygments_lexer": "ipython3",
   "version": "3.7.2"
  }
 },
 "nbformat": 4,
 "nbformat_minor": 2
}
